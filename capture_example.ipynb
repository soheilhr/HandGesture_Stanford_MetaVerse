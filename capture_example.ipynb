{
 "cells": [
  {
   "cell_type": "code",
   "execution_count": null,
   "metadata": {},
   "outputs": [],
   "source": [
    "from utils.radar_capture_utils import AWR6843, DCA1000, async_radar_saver\n",
    "#from utils.camera_capture_utils import camera, async_video_saver\n",
    "from utils.imu_capture_utils import realsense_imu\n",
    "from utils.realsense_capture_utils import realsense_camera, async_video_saver\n",
    "\n",
    "from utils.test_utils import test_radar, test_camera, test_imu\n",
    "\n",
    "import time\n",
    "import os\n",
    "import numpy as np\n",
    "from tqdm import tqdm\n",
    "from scipy.signal import stft\n",
    "import matplotlib.pyplot as plt\n",
    "\n",
    "print(time.strftime('%Y%h%d-%H%M'))"
   ]
  },
  {
   "cell_type": "code",
   "execution_count": null,
   "metadata": {},
   "outputs": [],
   "source": [
    "output_dat_path='./Test_data/'+time.strftime('%Y_%h_%d')\n",
    "if not os.path.exists(output_dat_path):\n",
    "    os.mkdir(output_dat_path)\n",
    "    print('path_created!')\n",
    "else:\n",
    "    print('path already exists!')\n",
    "    "
   ]
  },
  {
   "cell_type": "markdown",
   "metadata": {},
   "source": [
    "# Step1: Initialise radars and camera"
   ]
  },
  {
   "cell_type": "markdown",
   "metadata": {},
   "source": [
    "Init Radar:"
   ]
  },
  {
   "cell_type": "code",
   "execution_count": null,
   "metadata": {},
   "outputs": [],
   "source": [
    "ports=['COM5','COM6']"
   ]
  },
  {
   "cell_type": "code",
   "execution_count": null,
   "metadata": {},
   "outputs": [],
   "source": [
    "config_file_name=b\"./configs/xwr68xx_profile-test.cfg\"\n",
    "config_file_name=b\"./config68.cfg\"\n",
    "\n",
    "radar=AWR6843(radar_name=\"Radar1\",\n",
    "             cmd_serial_port=ports[0],\n",
    "             dat_serial_port=ports[1],\n",
    "             config_file_name=config_file_name)\n",
    "radar.stop_radar()"
   ]
  },
  {
   "cell_type": "markdown",
   "metadata": {},
   "source": [
    "Init DCA:"
   ]
  },
  {
   "cell_type": "code",
   "execution_count": null,
   "metadata": {
    "scrolled": true
   },
   "outputs": [],
   "source": [
    "dca = DCA1000()\n",
    "\n",
    "dca.startup(timeout=0.3)\n",
    "time.sleep(1)"
   ]
  },
  {
   "cell_type": "markdown",
   "metadata": {},
   "source": [
    "Init Camera:"
   ]
  },
  {
   "cell_type": "code",
   "execution_count": null,
   "metadata": {},
   "outputs": [],
   "source": [
    "camera_width=640\n",
    "camera_height=480\n",
    "camera_fps=30\n",
    "cam=realsense_camera(\n",
    "    camera_name='Camera1',\n",
    "    res_w=camera_width,\n",
    "    res_h=camera_height,\n",
    "    fps=camera_fps)\n",
    "cam.start()"
   ]
  },
  {
   "cell_type": "markdown",
   "metadata": {},
   "source": [
    "Init IMU:"
   ]
  },
  {
   "cell_type": "code",
   "execution_count": null,
   "metadata": {},
   "outputs": [],
   "source": [
    "imu=realsense_imu()\n",
    "imu.start()"
   ]
  },
  {
   "cell_type": "markdown",
   "metadata": {},
   "source": [
    "# Step2: test all sensors\n",
    "Common failures: <br>\n",
    "1- Radars not initializing : check the serial ports from device manager <br>\n",
    "2- Camera failing: unplug camera and replug <br>\n",
    "3- Address not available: unplug DCA, restart kernel <br>\n",
    "4- Timeout error: unplug dca, restart kernel <br>\n",
    "5- serial port busy or unavailable: unplug the radar and restart kernel <br>\n",
    "6- empty data packets: restart kernel, if didnt work, restart dca and radar  <br>\n"
   ]
  },
  {
   "cell_type": "code",
   "execution_count": null,
   "metadata": {},
   "outputs": [],
   "source": [
    "valid_criteria={\n",
    "    'min_doppler_threshold':0.25,\n",
    "    'max_doppler_threshold':3,\n",
    "    'min_range_threshold':5,\n",
    "    'max_range_threshold':20,\n",
    "    'min_points_per_radar_frame':1,\n",
    "    'min_radar_frames':0,\n",
    "    'min_camera_frames':10\n",
    "}"
   ]
  },
  {
   "cell_type": "code",
   "execution_count": null,
   "metadata": {},
   "outputs": [],
   "source": []
  },
  {
   "cell_type": "code",
   "execution_count": null,
   "metadata": {},
   "outputs": [],
   "source": [
    "camera_ready=test_camera(cam,capture_len=5)\n"
   ]
  },
  {
   "cell_type": "code",
   "execution_count": null,
   "metadata": {},
   "outputs": [],
   "source": [
    "camera_depth=np.uint8(np.repeat(np.expand_dims(np.stack(cam.depth,0),-1),3,-1))\n",
    "camera_frame = np.stack(cam.frames,0)[...]\n",
    "print(camera_frame.shape)\n",
    "plt.imshow(np.uint8(np.mean(camera_depth,0)))"
   ]
  },
  {
   "cell_type": "code",
   "execution_count": null,
   "metadata": {},
   "outputs": [],
   "source": [
    "print(np.stack(cam.depth,0).shape)\n",
    "depth_frame=np.stack(cam.depth,0)\n",
    "plt.imshow(np.uint8(depth_frame[10,:,:]))\n",
    "plt.figure()\n",
    "plt.imshow(np.uint8(depth_frame[50,:,:]))\n"
   ]
  },
  {
   "cell_type": "code",
   "execution_count": null,
   "metadata": {},
   "outputs": [],
   "source": [
    "imu_ready=test_imu(imu,capture_len=5)"
   ]
  },
  {
   "cell_type": "code",
   "execution_count": null,
   "metadata": {},
   "outputs": [],
   "source": [
    "radar_ready=test_radar(dca,radar,config_file_name,capture_len=5)\n",
    "radar.stop_radar()\n",
    "\n",
    "\n",
    "if radar_ready and camera_ready:\n",
    "    print('-----\\nAll sensors ready!')\n",
    "else:\n",
    "    print('-----\\nInit failed!')    "
   ]
  },
  {
   "cell_type": "markdown",
   "metadata": {},
   "source": [
    "# Step3: Capture!"
   ]
  },
  {
   "cell_type": "code",
   "execution_count": null,
   "metadata": {
    "scrolled": false
   },
   "outputs": [],
   "source": [
    "#How many episodes to capture ? set either the number of minutes or number of episodes (max number will be chosen)\n",
    "capture_notes=\"swipe_right Soheil\" # notes for post processing: \"$class $subject_name\" \n",
    "capture_len_minutes = 0 # total capture time in minutes\n",
    "total_num_captures = 1    # total number of captured episodes\n",
    "\n",
    "capture_period=10       # time per episode (should match waveform)\n",
    "inter_capture_delay=0.1 # delay between captures\n",
    "testing_period=5        # test every nth capture\n",
    "controlled_capture=False # controlled or uncontrolled capture\n",
    "\n",
    "##############################\n",
    "total_interesting_snapshots=0\n",
    "f_list=[]\n",
    "loop_time=capture_period+inter_capture_delay\n",
    "\n",
    "if total_num_captures==0:\n",
    "    total_num_captures=np.int32(np.ceil(60*capture_len_minutes/loop_time))\n",
    "\n",
    "out_folder=os.path.join(output_dat_path,time.strftime('%Y%h%d-%H%M')+'/')\n",
    "if not os.path.exists(out_folder):\n",
    "    os.mkdir(out_folder)\n",
    "    os.mkdir(out_folder+'/radar/')\n",
    "    os.mkdir(out_folder+'/camera/')\n",
    "    os.mkdir(out_folder+'/depth/')\n",
    "print(out_folder)\n",
    "\n",
    "with open(out_folder+'readme.txt','w') as f:\n",
    "    f.write(capture_notes)\n",
    "\n",
    "\n",
    "if radar_ready and camera_ready:\n",
    "    \n",
    "    print('3')\n",
    "    time.sleep(1)\n",
    "    print('2')\n",
    "    time.sleep(1)\n",
    "    print('1')\n",
    "    time.sleep(1)\n",
    "    \n",
    "    t0=time.time()\n",
    "    for i in range(total_num_captures):\n",
    "        radar.stop_radar()\n",
    "\n",
    "        dca.data=[]\n",
    "        camera_frame=[]\n",
    "        \n",
    "        time.sleep(0.01)\n",
    "\n",
    "        radar.start_radar()    \n",
    "\n",
    "#        cam.start(capture_period)\n",
    "        cam.start_capture_timed(record_time=loop_time)\n",
    "        \n",
    "        time.sleep(loop_time)\n",
    "        \n",
    "        print('\\n--------\\nSnapshot '+str(i)+' out of '+str(total_num_captures))\n",
    "                \n",
    "        t1=time.time()\n",
    "        print('Measured loop time:'+str(t1-t0)+' seconds')\n",
    "        t0=t1\n",
    "        \n",
    "        data_buffer=bytearray(np.concatenate(dca.data.copy()))\n",
    "        print(f'{radar.radar_name} data size: {len(data_buffer)}')\n",
    "               \n",
    "        radar_data_list=[data_buffer]\n",
    "        camera_frame=np.stack(cam.frames,0)[...,::-1]\n",
    "        camera_depth=np.uint8(np.repeat(np.expand_dims(np.stack(cam.depth,0),-1),3,-1))        \n",
    "#        camera_frame=np.stack([frame[0] for frame in cam.data],0)\n",
    "#        camera_depth=np.stack([frame[1] for frame in cam.data],0)        \n",
    "#        if len(zed_cam.data)>0:\n",
    "#            camera_frame=np.stack([zed_cam.data[0],zed_cam.data[len(zed_cam.data)//2],zed_cam.data[-1]],0)\n",
    "#        if not i%testing_period:\n",
    "#            valid_flags = test_snapshot(radar_data_list=radar_data_list,\n",
    "#                                        camera=zed_cam,\n",
    "#                                        valid_criteria=valid_criteria)\n",
    "#            print(valid_flags)\n",
    "            \n",
    "        if controlled_capture: ######### save\n",
    "\n",
    "            fname=time.strftime('%Y%m%d%H%M%S')\n",
    "            \n",
    "            #### save camera in background\n",
    "            f_list.append(async_video_saver(res_w=camera_width,\n",
    "                                            res_h=camera_height,\n",
    "                                            fps=camera_fps,\n",
    "                                            data=camera_frame,\n",
    "                                            path_out=os.path.join(out_folder,'camera',fname+'.avi')))\n",
    "            #### save camera in background\n",
    "            f_list.append(async_video_saver(res_w=camera_width,\n",
    "                                            res_h=camera_height,\n",
    "                                            fps=camera_fps,\n",
    "                                            data=camera_depth,\n",
    "                                            path_out=os.path.join(out_folder,'depth',fname+'.avi')))\n",
    "            \n",
    "            #### save radar in background\n",
    "            f_list.append(async_radar_saver(radar_data=radar_data_list,\n",
    "                                            camera_frame=[camera_frame[[0,camera_frame.shape[0]//2,-1],...]],#camera_frame,\n",
    "                                            camera_depth=[],#cam.depth,#np.stack(cam.depth,0),#camera_depth,                                           \n",
    "                                            path_out=os.path.join(out_folder,'radar',fname+'.npz')))\n",
    "            \n",
    "            total_interesting_snapshots+=1\n",
    "else:\n",
    "    print('Error!\\n Sensors not ready!')\n",
    "\n",
    "print('\\n-----\\n'+out_folder)\n"
   ]
  },
  {
   "cell_type": "markdown",
   "metadata": {},
   "source": [
    "# Summerize last episode:"
   ]
  },
  {
   "cell_type": "code",
   "execution_count": null,
   "metadata": {},
   "outputs": [],
   "source": [
    "plt.figure()\n",
    "camera_frame=np.stack(cam.frames,0)[...,::-1]\n",
    "plt.imshow(np.uint8(np.mean(camera_frame,0)))\n",
    "plt.figure()\n",
    "depth_frame=np.stack(cam.depth,0)\n",
    "plt.imshow(np.uint8(np.mean(depth_frame,0)))\n"
   ]
  },
  {
   "cell_type": "code",
   "execution_count": null,
   "metadata": {},
   "outputs": [],
   "source": [
    "import pandas as pd\n",
    "p=DCA1000.decode_data(None,bytearray(np.concatenate(dca.data.copy())))\n",
    "\n",
    "pcloud=pd.concat(p)\n",
    "plt.plot(pcloud['frame'],pcloud['x'],'-o',label='x')\n",
    "plt.plot(pcloud['frame'],pcloud['y'],'-o',label='y')\n",
    "plt.plot(pcloud['frame'],pcloud['z'],'-o',label='z')\n",
    "plt.xlabel('Frame')\n",
    "plt.ylabel('Location(meters)')\n",
    "plt.legend()\n",
    "plt.figure()\n",
    "plt.plot(pcloud['frame'],pcloud['v'],'-o',label='v')\n",
    "plt.xlabel('Frame')\n",
    "plt.ylabel('Velocity(m/s)')\n"
   ]
  },
  {
   "cell_type": "markdown",
   "metadata": {},
   "source": [
    "# Capture notes:\n",
    "Use the cell bellow as a notepad for documentation (to be cleaned up before each capture)"
   ]
  },
  {
   "cell_type": "code",
   "execution_count": null,
   "metadata": {},
   "outputs": [],
   "source": []
  }
 ],
 "metadata": {
  "kernelspec": {
   "display_name": "Python 3 (ipykernel)",
   "language": "python",
   "name": "python3"
  },
  "language_info": {
   "codemirror_mode": {
    "name": "ipython",
    "version": 3
   },
   "file_extension": ".py",
   "mimetype": "text/x-python",
   "name": "python",
   "nbconvert_exporter": "python",
   "pygments_lexer": "ipython3",
   "version": "3.6.13"
  }
 },
 "nbformat": 4,
 "nbformat_minor": 5
}
